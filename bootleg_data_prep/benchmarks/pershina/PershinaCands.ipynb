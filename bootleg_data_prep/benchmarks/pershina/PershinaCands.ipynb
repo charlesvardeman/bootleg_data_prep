{
 "cells": [
  {
   "cell_type": "code",
   "execution_count": 2,
   "metadata": {},
   "outputs": [],
   "source": [
    "import ujson as json\n",
    "import sys\n",
    "import os\n",
    "sys.path.append(os.path.join(sys.path[0], \"../\"))\n",
    "import re\n",
    "import argparse\n",
    "import gzip\n",
    "import shutil\n",
    "\n",
    "import bootleg_data_prep.utils.data_prep_utils as prep_utils\n",
    "\n",
    "from collections import defaultdict"
   ]
  },
  {
   "cell_type": "code",
   "execution_count": 16,
   "metadata": {},
   "outputs": [],
   "source": [
    "root_dir = '/dfs/scratch1/mleszczy/bootleg-internal'"
   ]
  },
  {
   "cell_type": "code",
   "execution_count": 45,
   "metadata": {},
   "outputs": [],
   "source": [
    "def get_title_to_wpid(args):\n",
    "    oldtitle2wpid = {}\n",
    "    with open(args.redirect_map) as in_file:\n",
    "        # line looks like this:\n",
    "        # http://en.wikipedia.org/wiki/Mike_Conley,_Sr.\tMike Conley Sr.\n",
    "        for line in in_file:\n",
    "            old_title, wpid = line.strip().split(\"\\t\")\n",
    "            oldtitle2wpid[old_title] = wpid\n",
    "    print(f\"Loaded {len(oldtitle2wpid)} title redirect pairs from {args.redirect_map}\")\n",
    "    return oldtitle2wpid\n",
    "\n",
    "\n",
    "class QIDMapper:\n",
    "\n",
    "    def __init__(self, wpid2qid, title2qid, redirect_title2wpid):\n",
    "\n",
    "        self.wpid2qid = wpid2qid # maps wpid to QID\n",
    "        self.title2qid = title2qid # maps wikipedia page title to QID\n",
    "        self.redirect_title2wpid = redirect_title2wpid # maps [old] wikipedia page title to WPID (frequently result of redirect)\n",
    "\n",
    "\n",
    "\n",
    "    def get_qid(self, title, wpid):\n",
    "\n",
    "        # Get QID based on title\n",
    "        if title in self.title2qid:\n",
    "            return self.title2qid[title]\n",
    "\n",
    "        # Get redirected title\n",
    "        if title in self.redirect_title2wpid:\n",
    "            wpid = self.redirect_title2wpid[title]\n",
    "            if wpid in self.wpid2qid:\n",
    "                return self.wpid2qid[title]\n",
    "\n",
    "        # Get based on WPID\n",
    "        if wpid in self.wpid2qid:\n",
    "            return self.wpid2qid[wpid]\n",
    "\n",
    "        return None\n",
    "\n",
    "\n",
    "def remove_duplicates(cands): \n",
    "    new_cands = {}\n",
    "    for cand, prior in cands: \n",
    "        if cand in new_cands: \n",
    "            # update prior if greater\n",
    "            if prior > new_cands[cand]: \n",
    "                new_cands[cand] = prior\n",
    "        else: \n",
    "            new_cands[cand] = prior\n",
    "    return [[qid, prior] for qid, prior in new_cands.items()]\n",
    "\n",
    "def process_files_pershina_uniq(qm, args):\n",
    "    files = prep_utils.glob_files(os.path.join(args.data_dir, 'raw/*/*'))\n",
    "    dropped_wpids = set()\n",
    "    found_wpids = set() \n",
    "    alias_to_candidates = {}\n",
    "    alias = None\n",
    "    alias_mismatch = set()\n",
    "    alias_name_map = {}\n",
    "    doc_id = None\n",
    "    for file in files:\n",
    "        al_idx = 0 \n",
    "        alias = None\n",
    "        with open(file) as in_file:\n",
    "            for line in in_file:\n",
    "                items = line.strip().split(\"\\t\")\n",
    "                if items[0] == 'ENTITY':\n",
    "                    # get original alias text\n",
    "                    assert 'origText' in items[7]\n",
    "                    assert 'docId' in items[6]\n",
    "                    if alias is not None: \n",
    "                        alias_to_candidates[alias] = filtered_candidates\n",
    "                        al_idx += 1\n",
    "                    doc_id = items[6].split('docId:')[1].lower() \n",
    "                    # alias candidates differ by document \n",
    "                    alias = f'alias_{doc_id}_{al_idx}'\n",
    "                    alias_name = items[7].split('origText:')[1].lower()\n",
    "                    alias_name_map[alias] = alias_name\n",
    "                    filtered_candidates = set()\n",
    "                    uniq_cands = set()\n",
    "                    true_mention = items[8].split('url:')[1] != 'NIL'\n",
    "                    if not true_mention: \n",
    "                        alias = None\n",
    "                    \n",
    "                elif items[0] == 'CANDIDATE':\n",
    "                    # get candidates\n",
    "                    title = items[6].split('name:')[1].lower()\n",
    "                    wpid = items[1].split('id:')[1].lower()\n",
    "                    count = int(items[2].split('inCount:')[1].lower())\n",
    "                    qid = qm.get_qid(title, wpid)\n",
    "                    if qid is None:\n",
    "                        dropped_wpids.add(wpid)\n",
    "                    else:\n",
    "                        filtered_candidates.add((qid, count))\n",
    "                        found_wpids.add(wpid) \n",
    "                        uniq_cands.add(qid)             \n",
    "\n",
    "        if alias is not None:\n",
    "            alias_to_candidates[alias] = filtered_candidates\n",
    "    \n",
    "    print('Dropped wpids\\t', len(dropped_wpids))\n",
    "    print('Found wpids\\t', len(found_wpids))\n",
    "    \n",
    "    max_len = -1 \n",
    "    for alias in alias_to_candidates:\n",
    "        cands = [list(t) for t in alias_to_candidates[alias]]\n",
    "        max_len = max(max_len, len(cands))\n",
    "        # check for duplicates and take higher prior if duplicates occur \n",
    "        cands = remove_duplicates(cands)\n",
    "        alias_to_candidates[alias] = sorted(cands, key=lambda x: (x[1], x[0]), reverse=True)[:args.topK]\n",
    "    print(f\"Loaded candidates for {len(alias_to_candidates)} aliases\")\n",
    "    print('Max number of cands\\t', max_len)\n",
    "    return alias_to_candidates, alias_name_map"
   ]
  },
  {
   "cell_type": "code",
   "execution_count": 19,
   "metadata": {},
   "outputs": [],
   "source": [
    "args = argparse.Namespace(data_dir=f'{root_dir}/bootleg_data_prep/benchmarks/pershina/',\n",
    "                         out_dir='processed', \n",
    "                         title_to_qid='/dfs/scratch1/mleszczy/contextual-embeddings-git/title_to_all_ids.jsonl', \n",
    "                         redirect_map=f'{root_dir}/bootleg_data_prep/benchmarks/aida/raw_aida/redirects_map.txt',\n",
    "                         topK=30)"
   ]
  },
  {
   "cell_type": "code",
   "execution_count": 20,
   "metadata": {},
   "outputs": [
    {
     "name": "stdout",
     "output_type": "stream",
     "text": [
      "Loaded 5598 title redirect pairs from /dfs/scratch1/mleszczy/bootleg-internal/bootleg_data_prep/benchmarks/aida/raw_aida/redirects_map.txt\n"
     ]
    }
   ],
   "source": [
    "redirect_title2wpid = get_title_to_wpid(args)"
   ]
  },
  {
   "cell_type": "code",
   "execution_count": 21,
   "metadata": {},
   "outputs": [
    {
     "name": "stderr",
     "output_type": "stream",
     "text": [
      "100%|██████████| 6457844/6457844 [01:04<00:00, 100623.72it/s]\n"
     ]
    },
    {
     "name": "stdout",
     "output_type": "stream",
     "text": [
      "Loaded title-qid map for 6385971 titles from /dfs/scratch1/mleszczy/contextual-embeddings-git/title_to_all_ids.jsonl. 64.18250966072083 seconds.\n"
     ]
    }
   ],
   "source": [
    "title2qid, _, wpid2qid, _ = prep_utils.load_qid_title_map(args.title_to_qid)\n",
    "qm = QIDMapper(wpid2qid, title2qid, redirect_title2wpid)"
   ]
  },
  {
   "cell_type": "code",
   "execution_count": 46,
   "metadata": {},
   "outputs": [
    {
     "name": "stdout",
     "output_type": "stream",
     "text": [
      "Dropped wpids\t 923\n",
      "Found wpids\t 35622\n",
      "Loaded candidates for 27816 aliases\n",
      "Max number of cands\t 50\n"
     ]
    }
   ],
   "source": [
    "cands_pershina, alias_name_map = process_files_pershina_uniq(qm, args)"
   ]
  },
  {
   "cell_type": "code",
   "execution_count": 47,
   "metadata": {
    "scrolled": true
   },
   "outputs": [
    {
     "name": "stdout",
     "output_type": "stream",
     "text": [
      "0\n"
     ]
    }
   ],
   "source": [
    "# check for duplicates\n",
    "seen_dup = 0\n",
    "for alias, qids in cands_pershina.items():\n",
    "    uniq_qids = set()\n",
    "    for qid, _ in qids:\n",
    "        if qid in uniq_qids:\n",
    "            seen_dup += 1\n",
    "            print(qid, alias)\n",
    "            break\n",
    "        uniq_qids.add(qid)\n",
    "        if len(qids) == 0: \n",
    "            print('0 zero qids!', alias)\n",
    "print(seen_dup)"
   ]
  },
  {
   "cell_type": "code",
   "execution_count": 48,
   "metadata": {},
   "outputs": [
    {
     "name": "stdout",
     "output_type": "stream",
     "text": [
      "Making /dfs/scratch1/mleszczy/bootleg-internal/bootleg_data_prep/benchmarks/pershina/processed\n"
     ]
    }
   ],
   "source": [
    "# dump \n",
    "args.out_dir = 'processed'\n",
    "out_dir = prep_utils.get_outdir(args.data_dir, args.out_dir)\n",
    "with open(os.path.join(out_dir, 'cands.json'), 'w') as out_file:\n",
    "    json.dump(cands_pershina, out_file)\n",
    "    \n",
    "with open(os.path.join(out_dir, 'vocab.json'), 'w') as out_file:\n",
    "    json.dump(alias_name_map, out_file)"
   ]
  },
  {
   "cell_type": "code",
   "execution_count": 42,
   "metadata": {},
   "outputs": [
    {
     "name": "stdout",
     "output_type": "stream",
     "text": [
      "4470.0 11.974496644295302 30 0 1168\n"
     ]
    }
   ],
   "source": [
    "# compute ambiguity of aida test after filtering\n",
    "import jsonlines\n",
    "import numpy as np \n",
    "count = 0.\n",
    "cand_len_pershina = []\n",
    "max_len = -1\n",
    "num_greater_than_30 = 0 \n",
    "num_equal_to_1 = 0 \n",
    "with jsonlines.open('/dfs/scratch1/mleszczy/bootleg-internal/data/aida_docwiki_pershina/filtered/test.jsonl') as f: \n",
    "    for line in f: \n",
    "        for i, alias in enumerate(line['aliases']):\n",
    "            if not line['anchor'][i]:\n",
    "                continue\n",
    "            if alias in cands_pershina: \n",
    "                count += 1\n",
    "                max_len = max(len(cands_pershina[alias]), max_len)\n",
    "                cand_len_pershina += [len(cands_pershina[alias])]\n",
    "                num_greater_than_30 += len(cands_pershina[alias]) > 30\n",
    "                num_equal_to_1 += len(cands_pershina[alias]) == 1\n",
    "                \n",
    "print(count, np.mean(cand_len_pershina), max_len,  num_greater_than_30, num_equal_to_1)"
   ]
  },
  {
   "cell_type": "code",
   "execution_count": 44,
   "metadata": {},
   "outputs": [
    {
     "data": {
      "image/png": "[encoded data removed]",
      "text/plain": [
       "<Figure size 432x288 with 1 Axes>"
      ]
     },
     "metadata": {
      "needs_background": "light"
     },
     "output_type": "display_data"
    }
   ],
   "source": [
    "import matplotlib.pyplot as plt\n",
    "plt.hist(cand_len_pershina, bins=30)\n",
    "plt.title('Pershina candidate count distribution')\n",
    "plt.savefig('pershina_cands.png', dpi=300)\n",
    "plt.show() "
   ]
  }
 ],
 "metadata": {
  "kernelspec": {
   "display_name": "ctx",
   "language": "python",
   "name": "ctx"
  },
  "language_info": {
   "codemirror_mode": {
    "name": "ipython",
    "version": 3
   },
   "file_extension": ".py",
   "mimetype": "text/x-python",
   "name": "python",
   "nbconvert_exporter": "python",
   "pygments_lexer": "ipython3",
   "version": "3.6.7"
  }
 },
 "nbformat": 4,
 "nbformat_minor": 4
}
