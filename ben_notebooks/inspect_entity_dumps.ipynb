{
 "cells": [
  {
   "cell_type": "code",
   "execution_count": 1,
   "metadata": {},
   "outputs": [],
   "source": [
    "import ujson as json\n",
    "import os\n",
    "import jsonlines\n",
    "from tqdm import tqdm"
   ]
  },
  {
   "cell_type": "code",
   "execution_count": 2,
   "metadata": {},
   "outputs": [],
   "source": [
    "gold = '/lfs/raiders7/hdd/balex/data/20210112_wiki_dump/20210117_only_golds/datafilter_0_-1_final/entity_db/entity_mappings'\n",
    "basic_wl = '/lfs/raiders7/hdd/balex/data/20210112_wiki_dump/20210117_basic_WL/datafilter_0_-1_final/entity_db/entity_mappings'\n",
    "prn = '/lfs/raiders7/hdd/balex/data/20210112_wiki_dump/20210117_only_pronouns/datafilter_0_-1_final/entity_db/entity_mappings'\n",
    "basic_and_prn = '/lfs/raiders7/hdd/balex/data/20210112_wiki_dump/20210117_basic_WL_and_pronouns/datafilter_0_-1_final/entity_db/entity_mappings'"
   ]
  },
  {
   "cell_type": "markdown",
   "metadata": {},
   "source": [
    "# alias2qids"
   ]
  },
  {
   "cell_type": "code",
   "execution_count": 3,
   "metadata": {},
   "outputs": [],
   "source": [
    "large_a2q = os.path.join(basic_and_prn, 'alias2qids.json')\n",
    "gold_a2q = os.path.join(gold, 'alias2qids.json')\n",
    "basic_wl_a2q = os.path.join(basic_wl, 'alias2qids.json')\n",
    "prn_a2q = os.path.join(prn, 'alias2qids.json')\n",
    "\n",
    "with open(large_a2q, 'r') as in_file:\n",
    "    large_a2q = json.load(in_file)\n",
    "    \n",
    "with open(gold_a2q, 'r') as in_file:\n",
    "    gold_a2q = json.load(in_file)\n",
    "    \n",
    "with open(basic_wl_a2q, 'r') as in_file:\n",
    "    basic_wl_a2q = json.load(in_file)\n",
    "    \n",
    "with open(prn_a2q, 'r') as in_file:\n",
    "    prn_a2q = json.load(in_file)"
   ]
  },
  {
   "cell_type": "code",
   "execution_count": 4,
   "metadata": {},
   "outputs": [
    {
     "name": "stdout",
     "output_type": "stream",
     "text": [
      "2339082\n",
      "1505934\n",
      "2110910\n",
      "1861590\n"
     ]
    }
   ],
   "source": [
    "print(len(large_a2q))\n",
    "print(len(gold_a2q))\n",
    "print(len(basic_wl_a2q))\n",
    "print(len(prn_a2q))"
   ]
  },
  {
   "cell_type": "code",
   "execution_count": 5,
   "metadata": {},
   "outputs": [
    {
     "name": "stdout",
     "output_type": "stream",
     "text": [
      "698\n",
      "1505934\n"
     ]
    }
   ],
   "source": [
    "missed1 = set()\n",
    "for alias in gold_a2q:\n",
    "    if alias not in large_a2q:\n",
    "        missed1.add(alias)\n",
    "    else:\n",
    "        for qid in gold_a2q[alias]:\n",
    "            assert qid in large_a2q[alias]\n",
    "print(len(missed1))\n",
    "print(len(gold_a2q))"
   ]
  },
  {
   "cell_type": "code",
   "execution_count": 6,
   "metadata": {},
   "outputs": [
    {
     "name": "stdout",
     "output_type": "stream",
     "text": [
      "818\n",
      "2110910\n"
     ]
    }
   ],
   "source": [
    "missed2 = set()\n",
    "for alias in basic_wl_a2q:\n",
    "    if alias not in large_a2q:\n",
    "        missed2.add(alias)\n",
    "    else:\n",
    "        for qid in basic_wl_a2q[alias]:\n",
    "            assert qid in large_a2q[alias]\n",
    "print(len(missed2))\n",
    "print(len(basic_wl_a2q))"
   ]
  },
  {
   "cell_type": "code",
   "execution_count": 7,
   "metadata": {},
   "outputs": [
    {
     "name": "stdout",
     "output_type": "stream",
     "text": [
      "0\n",
      "1861590\n"
     ]
    }
   ],
   "source": [
    "missed3 = set()\n",
    "for alias in prn_a2q:\n",
    "    if alias not in large_a2q:\n",
    "        missed3.add(alias)\n",
    "    else:\n",
    "        for qid in prn_a2q[alias]:\n",
    "            assert qid in large_a2q[alias]\n",
    "print(len(missed3))\n",
    "print(len(prn_a2q))"
   ]
  },
  {
   "cell_type": "code",
   "execution_count": 8,
   "metadata": {},
   "outputs": [
    {
     "name": "stdout",
     "output_type": "stream",
     "text": [
      "698\n",
      "0\n",
      "0\n",
      "818\n"
     ]
    }
   ],
   "source": [
    "print(len(missed1.intersection(missed2)))\n",
    "print(len(missed2.intersection(missed3)))\n",
    "print(len(missed1.intersection(missed3)))\n",
    "\n",
    "print(len(missed1.union(missed2).union(missed3)))"
   ]
  },
  {
   "cell_type": "code",
   "execution_count": null,
   "metadata": {},
   "outputs": [],
   "source": [
    "# # Check if it is due to the >100 length problem because of --swap_titles\n",
    "# all_sent = set()\n",
    "# train_out = '/lfs/raiders7/hdd/balex/data/20210112_wiki_dump/20210117_only_golds/datafilter_0_-1_final'\n",
    "# files = [x for x in os.listdir(train_out) if x.endswith('.jsonl')]\n",
    "# for file in tqdm(files):\n",
    "#     with jsonlines.open(os.path.join(train_out,file), 'r') as in_file:\n",
    "#         for sent in in_file:\n",
    "#             all_sent.add((sent['parent_qid'], sent['doc_sent_idx']))"
   ]
  },
  {
   "cell_type": "code",
   "execution_count": null,
   "metadata": {},
   "outputs": [],
   "source": [
    "# all_lengths = []\n",
    "# folder = '/lfs/raiders7/hdd/balex/data/20210112_wiki_dump/20210117_basic_WL_and_pronouns/pronouns'\n",
    "# files = [x for x in os.listdir(folder) if x.endswith(\".jsonl\")]\n",
    "# for file in tqdm(files):\n",
    "#     with jsonlines.open(os.path.join(folder,file), 'r') as in_file:\n",
    "#         for doc in in_file:\n",
    "#             for sent in doc['sentences']:\n",
    "#                 aliases = set(sent['aliases'])\n",
    "#                 inter = missed1.intersection(aliases)\n",
    "#                 if len(inter) > 0 and (doc['qid'], sent['doc_sent_idx']) in all_sent:\n",
    "#                     sent_len = len(sent['sentence'].split())\n",
    "#                     all_lengths.append(sent_len)\n",
    "#                     if sent_len <= 100:\n",
    "#                         print(sent_len)\n",
    "#                         print(inter)\n",
    "#                         print(sent)\n",
    "#                         print()"
   ]
  },
  {
   "cell_type": "code",
   "execution_count": null,
   "metadata": {},
   "outputs": [],
   "source": [
    "# print(len(all_lengths))\n",
    "# print([x for x in all_lengths if x <= 100])"
   ]
  },
  {
   "cell_type": "code",
   "execution_count": null,
   "metadata": {},
   "outputs": [],
   "source": [
    "# train_out = '/lfs/raiders7/hdd/balex/data/20210112_wiki_dump/20210117_only_golds/datafilter_0_-1_final'\n",
    "# files = [x for x in os.listdir(train_out) if x.endswith('.jsonl')]\n",
    "# used = set()\n",
    "# for file in tqdm(files):\n",
    "#     with jsonlines.open(os.path.join(train_out,file), 'r') as in_file:\n",
    "#         for sent in in_file:\n",
    "#             aliases = set(sent['aliases'])\n",
    "#             inter = missed1.intersection(aliases)\n",
    "#             used = used.union(inter)\n",
    "# len(used)"
   ]
  },
  {
   "cell_type": "markdown",
   "metadata": {},
   "source": [
    "# qid2eid"
   ]
  },
  {
   "cell_type": "code",
   "execution_count": 9,
   "metadata": {},
   "outputs": [],
   "source": [
    "large_q2e = os.path.join(basic_and_prn, 'qid2eid.json')\n",
    "gold_q2e = os.path.join(gold, 'qid2eid.json')\n",
    "basic_wl_q2e = os.path.join(basic_wl, 'qid2eid.json')\n",
    "prn_q2e = os.path.join(prn, 'qid2eid.json')\n",
    "\n",
    "with open(large_q2e, 'r') as in_file:\n",
    "    large_q2e = json.load(in_file)\n",
    "    \n",
    "with open(gold_q2e, 'r') as in_file:\n",
    "    gold_q2e = json.load(in_file)\n",
    "    \n",
    "with open(basic_wl_q2e, 'r') as in_file:\n",
    "    basic_wl_q2e = json.load(in_file)\n",
    "    \n",
    "with open(prn_q2e, 'r') as in_file:\n",
    "    prn_q2e = json.load(in_file)"
   ]
  },
  {
   "cell_type": "code",
   "execution_count": 10,
   "metadata": {},
   "outputs": [
    {
     "name": "stdout",
     "output_type": "stream",
     "text": [
      "1650116\n",
      "1185734\n",
      "1528358\n",
      "1441283\n"
     ]
    }
   ],
   "source": [
    "print(len(large_q2e))\n",
    "print(len(gold_q2e))\n",
    "print(len(basic_wl_q2e))\n",
    "print(len(prn_q2e))"
   ]
  },
  {
   "cell_type": "code",
   "execution_count": 11,
   "metadata": {},
   "outputs": [
    {
     "name": "stdout",
     "output_type": "stream",
     "text": [
      "266\n"
     ]
    }
   ],
   "source": [
    "missed4 = set()\n",
    "for qid in gold_q2e:\n",
    "    if qid not in large_q2e:\n",
    "        missed4.add(qid)\n",
    "print(len(missed4))"
   ]
  },
  {
   "cell_type": "code",
   "execution_count": 12,
   "metadata": {},
   "outputs": [
    {
     "name": "stdout",
     "output_type": "stream",
     "text": [
      "314\n"
     ]
    }
   ],
   "source": [
    "missed5 = set()\n",
    "for qid in basic_wl_q2e:\n",
    "    if qid not in large_q2e:\n",
    "        missed5.add(qid)\n",
    "print(len(missed5))"
   ]
  },
  {
   "cell_type": "code",
   "execution_count": 13,
   "metadata": {},
   "outputs": [
    {
     "name": "stdout",
     "output_type": "stream",
     "text": [
      "0\n"
     ]
    }
   ],
   "source": [
    "missed6 = set()\n",
    "for qid in prn_q2e:\n",
    "    if qid not in large_q2e:\n",
    "        missed6.add(qid)\n",
    "print(len(missed6))"
   ]
  },
  {
   "cell_type": "code",
   "execution_count": 14,
   "metadata": {},
   "outputs": [
    {
     "name": "stdout",
     "output_type": "stream",
     "text": [
      "266\n",
      "0\n",
      "0\n",
      "314\n"
     ]
    }
   ],
   "source": [
    "print(len(missed4.intersection(missed5)))\n",
    "print(len(missed5.intersection(missed6)))\n",
    "print(len(missed4.intersection(missed6)))\n",
    "\n",
    "print(len(missed4.union(missed5).union(missed6)))"
   ]
  },
  {
   "cell_type": "code",
   "execution_count": 15,
   "metadata": {},
   "outputs": [
    {
     "name": "stdout",
     "output_type": "stream",
     "text": [
      "1650116\n",
      "1185734\n",
      "1528358\n",
      "1441283\n"
     ]
    }
   ],
   "source": [
    "print(len(large_q2e))\n",
    "print(len(gold_q2e))\n",
    "print(len(basic_wl_q2e))\n",
    "print(len(prn_q2e))"
   ]
  },
  {
   "cell_type": "markdown",
   "metadata": {},
   "source": [
    "# qid2title"
   ]
  },
  {
   "cell_type": "code",
   "execution_count": 16,
   "metadata": {},
   "outputs": [],
   "source": [
    "large_q2t = os.path.join(basic_and_prn, 'qid2title.json')\n",
    "gold_q2t = os.path.join(gold, 'qid2title.json')\n",
    "basic_wl_q2t = os.path.join(basic_wl, 'qid2title.json')\n",
    "prn_q2t = os.path.join(prn, 'qid2title.json')\n",
    "\n",
    "with open(large_q2t, 'r') as in_file:\n",
    "    large_q2t = json.load(in_file)\n",
    "    \n",
    "with open(gold_q2t, 'r') as in_file:\n",
    "    gold_q2t = json.load(in_file)\n",
    "    \n",
    "with open(basic_wl_q2t, 'r') as in_file:\n",
    "    basic_wl_q2t = json.load(in_file)\n",
    "    \n",
    "with open(prn_q2t, 'r') as in_file:\n",
    "    prn_q2t = json.load(in_file)"
   ]
  },
  {
   "cell_type": "code",
   "execution_count": 17,
   "metadata": {},
   "outputs": [
    {
     "name": "stdout",
     "output_type": "stream",
     "text": [
      "266\n"
     ]
    }
   ],
   "source": [
    "missed7 = set()\n",
    "for qid in gold_q2t:\n",
    "    if qid not in large_q2t:\n",
    "        missed7.add(qid)\n",
    "    else:\n",
    "        assert gold_q2t[qid] == large_q2t[qid]\n",
    "print(len(missed7))"
   ]
  },
  {
   "cell_type": "code",
   "execution_count": 18,
   "metadata": {},
   "outputs": [
    {
     "name": "stdout",
     "output_type": "stream",
     "text": [
      "314\n"
     ]
    }
   ],
   "source": [
    "missed8 = set()\n",
    "for qid in basic_wl_q2t:\n",
    "    if qid not in large_q2t:\n",
    "        missed8.add(qid)\n",
    "    else:\n",
    "        assert basic_wl_q2t[qid] == large_q2t[qid]\n",
    "print(len(missed8))"
   ]
  },
  {
   "cell_type": "code",
   "execution_count": 19,
   "metadata": {},
   "outputs": [
    {
     "name": "stdout",
     "output_type": "stream",
     "text": [
      "0\n"
     ]
    }
   ],
   "source": [
    "missed9 = set()\n",
    "for qid in prn_q2t:\n",
    "    if qid not in large_q2t:\n",
    "        missed9.add(qid)\n",
    "    else:\n",
    "        assert prn_q2t[qid] == large_q2t[qid]\n",
    "print(len(missed9))"
   ]
  },
  {
   "cell_type": "markdown",
   "metadata": {},
   "source": [
    "# Make superset entity dump"
   ]
  },
  {
   "cell_type": "code",
   "execution_count": 20,
   "metadata": {},
   "outputs": [],
   "source": [
    "save_dir = '/lfs/raiders7/hdd/balex/data/20210112_wiki_dump/20210117_basic_WL_and_pronouns/datafilter_0_-1_final/SUPERSET_entity_db/entity_mappings'"
   ]
  },
  {
   "cell_type": "markdown",
   "metadata": {},
   "source": [
    "### First for alias2qids"
   ]
  },
  {
   "cell_type": "code",
   "execution_count": 21,
   "metadata": {},
   "outputs": [
    {
     "data": {
      "text/plain": [
       "818"
      ]
     },
     "execution_count": 21,
     "metadata": {},
     "output_type": "execute_result"
    }
   ],
   "source": [
    "all_aliases = missed1.union(missed2).union(missed3)\n",
    "len(all_aliases)"
   ]
  },
  {
   "cell_type": "code",
   "execution_count": 22,
   "metadata": {},
   "outputs": [],
   "source": [
    "with open('/lfs/raiders7/hdd/balex/data/20210112_wiki_dump/alias_filtered_sentences/entity_db/entity_mappings/alias2qids.json', 'r') as in_file:\n",
    "    alias_table = json.load(in_file)"
   ]
  },
  {
   "cell_type": "code",
   "execution_count": 23,
   "metadata": {},
   "outputs": [
    {
     "name": "stdout",
     "output_type": "stream",
     "text": [
      "True\n",
      "True\n"
     ]
    }
   ],
   "source": [
    "print(alias_table['carl'][:30] == large_a2q['carl'])\n",
    "\n",
    "print(alias_table['coach k'][:30] == large_a2q['coach k'])"
   ]
  },
  {
   "cell_type": "code",
   "execution_count": 24,
   "metadata": {},
   "outputs": [
    {
     "data": {
      "text/plain": [
       "2339082"
      ]
     },
     "execution_count": 24,
     "metadata": {},
     "output_type": "execute_result"
    }
   ],
   "source": [
    "len(large_a2q)"
   ]
  },
  {
   "cell_type": "code",
   "execution_count": 25,
   "metadata": {},
   "outputs": [],
   "source": [
    "for alias in all_aliases:\n",
    "    large_a2q[alias] = alias_table[alias][:30]"
   ]
  },
  {
   "cell_type": "code",
   "execution_count": 28,
   "metadata": {},
   "outputs": [
    {
     "data": {
      "text/plain": [
       "2339900"
      ]
     },
     "execution_count": 28,
     "metadata": {},
     "output_type": "execute_result"
    }
   ],
   "source": [
    "len(large_a2q)"
   ]
  },
  {
   "cell_type": "code",
   "execution_count": 29,
   "metadata": {},
   "outputs": [],
   "source": [
    "with open(os.path.join(save_dir, 'alias2qids.json'), 'w') as f:\n",
    "    json.dump(large_a2q, f)"
   ]
  },
  {
   "cell_type": "markdown",
   "metadata": {},
   "source": [
    "### Now for qid2eid"
   ]
  },
  {
   "cell_type": "code",
   "execution_count": 30,
   "metadata": {},
   "outputs": [
    {
     "data": {
      "text/plain": [
       "314"
      ]
     },
     "execution_count": 30,
     "metadata": {},
     "output_type": "execute_result"
    }
   ],
   "source": [
    "all_qids = missed4.union(missed5).union(missed6)\n",
    "len(all_qids)"
   ]
  },
  {
   "cell_type": "code",
   "execution_count": 31,
   "metadata": {},
   "outputs": [
    {
     "name": "stdout",
     "output_type": "stream",
     "text": [
      "1650116\n",
      "1650116\n"
     ]
    }
   ],
   "source": [
    "# Need to go sequentially\n",
    "print(max(large_q2e.values()))\n",
    "print(len(large_q2e))\n",
    "assert max(large_q2e.values()) == len(large_q2e)"
   ]
  },
  {
   "cell_type": "code",
   "execution_count": 32,
   "metadata": {},
   "outputs": [
    {
     "data": {
      "text/plain": [
       "1650117"
      ]
     },
     "execution_count": 32,
     "metadata": {},
     "output_type": "execute_result"
    }
   ],
   "source": [
    "start = len(large_q2e) + 1\n",
    "start"
   ]
  },
  {
   "cell_type": "code",
   "execution_count": 33,
   "metadata": {},
   "outputs": [],
   "source": [
    "for qid in all_qids:\n",
    "    large_q2e[qid] = start\n",
    "    start += 1"
   ]
  },
  {
   "cell_type": "code",
   "execution_count": 34,
   "metadata": {},
   "outputs": [
    {
     "name": "stdout",
     "output_type": "stream",
     "text": [
      "1650430\n",
      "1650430\n"
     ]
    }
   ],
   "source": [
    "print(max(large_q2e.values()))\n",
    "print(len(large_q2e))\n",
    "assert max(large_q2e.values()) == len(large_q2e)"
   ]
  },
  {
   "cell_type": "code",
   "execution_count": 35,
   "metadata": {},
   "outputs": [],
   "source": [
    "with open(os.path.join(save_dir, 'qid2eid.json'), 'w') as f:\n",
    "    json.dump(large_q2e, f)"
   ]
  },
  {
   "cell_type": "markdown",
   "metadata": {},
   "source": [
    "### Now for qid2title"
   ]
  },
  {
   "cell_type": "code",
   "execution_count": 36,
   "metadata": {},
   "outputs": [
    {
     "data": {
      "text/plain": [
       "314"
      ]
     },
     "execution_count": 36,
     "metadata": {},
     "output_type": "execute_result"
    }
   ],
   "source": [
    "all_qids_for_title = missed7.union(missed8).union(missed9)\n",
    "len(all_qids_for_title)"
   ]
  },
  {
   "cell_type": "code",
   "execution_count": 37,
   "metadata": {},
   "outputs": [],
   "source": [
    "with open('/lfs/raiders7/hdd/balex/data/20210112_wiki_dump/alias_filtered_sentences/entity_db/entity_mappings/qid2title.json', 'r') as in_file:\n",
    "    full_q2t = json.load(in_file)"
   ]
  },
  {
   "cell_type": "code",
   "execution_count": 38,
   "metadata": {},
   "outputs": [
    {
     "data": {
      "text/plain": [
       "1650116"
      ]
     },
     "execution_count": 38,
     "metadata": {},
     "output_type": "execute_result"
    }
   ],
   "source": [
    "len(large_q2t)"
   ]
  },
  {
   "cell_type": "code",
   "execution_count": 39,
   "metadata": {},
   "outputs": [],
   "source": [
    "for qid in all_qids_for_title:\n",
    "    large_q2t[qid] = full_q2t[qid]"
   ]
  },
  {
   "cell_type": "code",
   "execution_count": 40,
   "metadata": {},
   "outputs": [
    {
     "data": {
      "text/plain": [
       "1650430"
      ]
     },
     "execution_count": 40,
     "metadata": {},
     "output_type": "execute_result"
    }
   ],
   "source": [
    "len(large_q2t)"
   ]
  },
  {
   "cell_type": "code",
   "execution_count": 41,
   "metadata": {},
   "outputs": [],
   "source": [
    "with open(os.path.join(save_dir, 'qid2title.json'), 'w') as f:\n",
    "    json.dump(large_q2t, f)"
   ]
  },
  {
   "cell_type": "code",
   "execution_count": null,
   "metadata": {},
   "outputs": [],
   "source": []
  }
 ],
 "metadata": {
  "kernelspec": {
   "display_name": "Python 3",
   "language": "python",
   "name": "python3"
  },
  "language_info": {
   "codemirror_mode": {
    "name": "ipython",
    "version": 3
   },
   "file_extension": ".py",
   "mimetype": "text/x-python",
   "name": "python",
   "nbconvert_exporter": "python",
   "pygments_lexer": "ipython3",
   "version": "3.6.10"
  }
 },
 "nbformat": 4,
 "nbformat_minor": 4
}
