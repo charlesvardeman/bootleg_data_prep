{
 "cells": [
  {
   "cell_type": "code",
   "execution_count": 1,
   "metadata": {},
   "outputs": [],
   "source": [
    "# This notebook filters the Wikidata AKA alias table to be a strict subset of the original full alias table.\n",
    "import jsonlines\n",
    "from tqdm import tqdm\n",
    "import ujson"
   ]
  },
  {
   "cell_type": "code",
   "execution_count": 2,
   "metadata": {},
   "outputs": [
    {
     "name": "stderr",
     "output_type": "stream",
     "text": [
      "1it [00:24, 24.58s/it]\n"
     ]
    }
   ],
   "source": [
    "aka_table = '/lfs/raiders7/hdd/balex/data/wikidata_also_known_as/augmented_alias_map_large_uncased_1216.jsonl'\n",
    "with jsonlines.open(aka_table, 'r') as in_file:\n",
    "    for line in tqdm(in_file):\n",
    "        aka_table = line\n",
    "\n",
    "full_table = '/lfs/raiders7/hdd/balex/data/20210112_wiki_dump/alias_filtered_sentences/entity_db/entity_mappings/alias2qids.json'\n",
    "with open(full_table, 'r') as in_file:\n",
    "    full_table = ujson.load(in_file)"
   ]
  },
  {
   "cell_type": "code",
   "execution_count": 3,
   "metadata": {},
   "outputs": [
    {
     "name": "stdout",
     "output_type": "stream",
     "text": [
      "9598111\n",
      "15290555\n"
     ]
    }
   ],
   "source": [
    "print(len(aka_table))\n",
    "print(len(full_table))"
   ]
  },
  {
   "cell_type": "code",
   "execution_count": 4,
   "metadata": {},
   "outputs": [
    {
     "name": "stderr",
     "output_type": "stream",
     "text": [
      "100%|██████████| 9598111/9598111 [00:13<00:00, 730501.84it/s]\n"
     ]
    }
   ],
   "source": [
    "# Only keep aliases in aka_table if they are also in full_table\n",
    "for alias in tqdm(list(aka_table.keys())):\n",
    "    if alias not in full_table:\n",
    "        del aka_table[alias]"
   ]
  },
  {
   "cell_type": "code",
   "execution_count": 5,
   "metadata": {},
   "outputs": [
    {
     "data": {
      "text/plain": [
       "7265608"
      ]
     },
     "execution_count": 5,
     "metadata": {},
     "output_type": "execute_result"
    }
   ],
   "source": [
    "len(aka_table)"
   ]
  },
  {
   "cell_type": "code",
   "execution_count": 6,
   "metadata": {},
   "outputs": [
    {
     "name": "stderr",
     "output_type": "stream",
     "text": [
      "100%|██████████| 7265608/7265608 [00:41<00:00, 174349.27it/s]\n"
     ]
    }
   ],
   "source": [
    "# Make sure for a given alias, all qids in aka_table are also in full_table\n",
    "for alias in tqdm(aka_table):\n",
    "    aka_qids = set(aka_table[alias])\n",
    "    full_qids = set([x[0] for x in full_table[alias]])\n",
    "    intersection = list(aka_qids.intersection(full_qids))\n",
    "    aka_table[alias] = intersection"
   ]
  },
  {
   "cell_type": "code",
   "execution_count": 7,
   "metadata": {},
   "outputs": [],
   "source": [
    "save_path = '/lfs/raiders7/hdd/balex/data/wikidata_also_known_as/augmented_alias_map_large_uncased_1216_filtered_to_be_intersection_0120.json'\n",
    "with open(save_path, 'w') as out_file:\n",
    "    ujson.dump(aka_table, out_file)"
   ]
  },
  {
   "cell_type": "markdown",
   "metadata": {},
   "source": [
    "## Just checking"
   ]
  },
  {
   "cell_type": "code",
   "execution_count": null,
   "metadata": {},
   "outputs": [],
   "source": [
    "qid2alias_full = {}\n",
    "for alias in tqdm(full_table):\n",
    "    for qid, _ in full_table[alias]:\n",
    "        if qid not in qid2alias_full:\n",
    "            qid2alias_full[qid] = []\n",
    "        qid2alias_full[qid].append(alias)\n",
    "        \n",
    "qid2alias_aka = {}\n",
    "for alias in tqdm(aka_table):\n",
    "    for qid in aka_table[alias]:\n",
    "        if qid not in qid2alias_aka:\n",
    "            qid2alias_aka[qid] = []\n",
    "        qid2alias_aka[qid].append(alias)"
   ]
  },
  {
   "cell_type": "code",
   "execution_count": null,
   "metadata": {},
   "outputs": [],
   "source": [
    "print(qid2alias_full['Q2736'])\n",
    "print()\n",
    "print(qid2alias_aka['Q2736'])"
   ]
  },
  {
   "cell_type": "code",
   "execution_count": null,
   "metadata": {},
   "outputs": [],
   "source": []
  }
 ],
 "metadata": {
  "kernelspec": {
   "display_name": "Python 3",
   "language": "python",
   "name": "python3"
  },
  "language_info": {
   "codemirror_mode": {
    "name": "ipython",
    "version": 3
   },
   "file_extension": ".py",
   "mimetype": "text/x-python",
   "name": "python",
   "nbconvert_exporter": "python",
   "pygments_lexer": "ipython3",
   "version": "3.6.10"
  }
 },
 "nbformat": 4,
 "nbformat_minor": 4
}
